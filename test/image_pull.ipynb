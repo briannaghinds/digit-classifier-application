{
 "cells": [
  {
   "cell_type": "code",
   "execution_count": 13,
   "id": "e55af67e",
   "metadata": {},
   "outputs": [],
   "source": [
    "# i want to test to see if I can turn png image into array\n",
    "import numpy as np\n",
    "import matplotlib.pyplot as plt\n",
    "from PIL import Image\n",
    "import cv2"
   ]
  },
  {
   "cell_type": "code",
   "execution_count": null,
   "id": "d3835aaf",
   "metadata": {},
   "outputs": [
    {
     "ename": "AttributeError",
     "evalue": "'PngImageFile' object has no attribute 'shape'",
     "output_type": "error",
     "traceback": [
      "\u001b[1;31m---------------------------------------------------------------------------\u001b[0m",
      "\u001b[1;31mAttributeError\u001b[0m                            Traceback (most recent call last)",
      "Cell \u001b[1;32mIn[20], line 7\u001b[0m\n\u001b[0;32m      3\u001b[0m img \u001b[38;5;241m=\u001b[39m Image\u001b[38;5;241m.\u001b[39mopen(\u001b[38;5;124m\"\u001b[39m\u001b[38;5;124m../images/image0.png\u001b[39m\u001b[38;5;124m\"\u001b[39m)\n\u001b[0;32m      4\u001b[0m \u001b[38;5;66;03m# img = cv2.imread(\"../images/image0.png\")\u001b[39;00m\n\u001b[0;32m      5\u001b[0m \u001b[38;5;66;03m# g_img = cv2.cvtColor(img, cv2.COLOR_BGR2GRAY)\u001b[39;00m\n\u001b[0;32m      6\u001b[0m \u001b[38;5;66;03m# g_img\u001b[39;00m\n\u001b[1;32m----> 7\u001b[0m \u001b[38;5;28mprint\u001b[39m(\u001b[43mimg\u001b[49m\u001b[38;5;241;43m.\u001b[39;49m\u001b[43mshape\u001b[49m)\n\u001b[0;32m      8\u001b[0m \u001b[38;5;66;03m# cv2.imshow(\"img\", img)\u001b[39;00m\n\u001b[0;32m      9\u001b[0m plt\u001b[38;5;241m.\u001b[39mimshow(img)\n",
      "\u001b[1;31mAttributeError\u001b[0m: 'PngImageFile' object has no attribute 'shape'"
     ]
    }
   ],
   "source": [
    "# img = np.asarray(Image.open(\"./images/image0.png\"), dtype=np.uint8)\n",
    "# img\n",
    "img = Image.open(\"../images/image0.png\")\n",
    "# img = cv2.imread(\"../images/image0.png\")\n",
    "# g_img = cv2.cvtColor(img, cv2.COLOR_BGR2GRAY)\n",
    "# g_img\n",
    "# cv2.imshow(\"img\", img)\n"
   ]
  }
 ],
 "metadata": {
  "kernelspec": {
   "display_name": "Python 3",
   "language": "python",
   "name": "python3"
  },
  "language_info": {
   "codemirror_mode": {
    "name": "ipython",
    "version": 3
   },
   "file_extension": ".py",
   "mimetype": "text/x-python",
   "name": "python",
   "nbconvert_exporter": "python",
   "pygments_lexer": "ipython3",
   "version": "3.11.4"
  }
 },
 "nbformat": 4,
 "nbformat_minor": 5
}
