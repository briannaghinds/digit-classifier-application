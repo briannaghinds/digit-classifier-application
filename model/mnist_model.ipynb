{
 "cells": [
  {
   "cell_type": "markdown",
   "id": "ae7ac2ba",
   "metadata": {},
   "source": [
    "## MNIST CNN Model"
   ]
  },
  {
   "cell_type": "code",
   "execution_count": null,
   "id": "ebb6c3fd",
   "metadata": {},
   "outputs": [],
   "source": [
    "# torch libraries \n",
    "from torchvision import datasets\n",
    "from torchvision.transforms import ToTensor\n",
    "import torch\n",
    "from torch.utils.data import DataLoader\n",
    "import torch.nn as nn\n",
    "import torch.nn.functional as F\n",
    "import torch.optim as optim\n",
    "\n",
    "# other data libraries\n",
    "import matplotlib.pyplot as plt\n",
    "import cv2\n"
   ]
  },
  {
   "cell_type": "code",
   "execution_count": null,
   "id": "11419d06",
   "metadata": {},
   "outputs": [],
   "source": [
    "# load the data\n",
    "train_data = datasets.MNIST(\n",
    "    root=\"data\",\n",
    "    train=True,\n",
    "    transform=ToTensor(),\n",
    "    download=True\n",
    ")\n",
    "\n",
    "test_data = datasets.MNIST(\n",
    "    root=\"data\",\n",
    "    train=False,\n",
    "    transform=ToTensor(),\n",
    "    download=True\n",
    ")\n",
    "\n",
    "# load the data into a DataLoader, turn into batches and shuffle\n",
    "loaders = {\n",
    "    \"train\": DataLoader(train_data, batch_size=100, shuffle=True, num_workers=1),\n",
    "    \"test\": DataLoader(test_data, batch_size=100, shuffle=True, num_workers=1)\n",
    "}"
   ]
  },
  {
   "cell_type": "code",
   "execution_count": null,
   "id": "a1704aa5",
   "metadata": {},
   "outputs": [],
   "source": [
    "# define the model architecture\n",
    "class MNIST_CNN(nn.Module):\n",
    "    def __init__(self):\n",
    "        super(MNIST_CNN, self).__init__()\n",
    "\n",
    "        # define input, hidden, output\n",
    "        self.conv1 = nn.Conv2d(1, 10, kernel_size=5)  # 1 channel in, 10 out\n",
    "        self.conv2 = nn.Conv2d(10, 20, kernel_size=5)  # 10 channels in, 20 out\n",
    "\n",
    "    def forward(self, x):\n",
    "        pass \n",
    "\n",
    "    def train_model(self):\n",
    "        pass\n",
    "\n",
    "    def test_model(self):\n",
    "        pass\n",
    "\n",
    "    def save_model(self):\n",
    "        pass"
   ]
  },
  {
   "cell_type": "code",
   "execution_count": null,
   "id": "1ef4e8e4",
   "metadata": {},
   "outputs": [],
   "source": [
    "# define the model, optimizer model, loss function\n",
    "model = MNIST_CNN()\n",
    "optimizer = optim.Adam(model.parameters(), lr=0.01)\n",
    "loss_fuc = nn.CrossEntropyLoss()"
   ]
  },
  {
   "cell_type": "code",
   "execution_count": null,
   "id": "d0677cbf",
   "metadata": {},
   "outputs": [],
   "source": [
    "# train the model, save it"
   ]
  }
 ],
 "metadata": {
  "kernelspec": {
   "display_name": "Python 3",
   "language": "python",
   "name": "python3"
  },
  "language_info": {
   "name": "python",
   "version": "3.11.4"
  }
 },
 "nbformat": 4,
 "nbformat_minor": 5
}
